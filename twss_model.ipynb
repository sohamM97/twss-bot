{
 "cells": [
  {
   "cell_type": "code",
   "execution_count": 2,
   "metadata": {},
   "outputs": [],
   "source": [
    "import pandas as pd\n",
    "import numpy as np"
   ]
  },
  {
   "cell_type": "code",
   "execution_count": 3,
   "metadata": {},
   "outputs": [],
   "source": [
    "df = pd.DataFrame(columns=['text','twss'])"
   ]
  },
  {
   "cell_type": "code",
   "execution_count": 4,
   "metadata": {},
   "outputs": [
    {
     "output_type": "execute_result",
     "data": {
      "text/plain": [
       "Empty DataFrame\n",
       "Columns: [text, twss]\n",
       "Index: []"
      ],
      "text/html": "<div>\n<style scoped>\n    .dataframe tbody tr th:only-of-type {\n        vertical-align: middle;\n    }\n\n    .dataframe tbody tr th {\n        vertical-align: top;\n    }\n\n    .dataframe thead th {\n        text-align: right;\n    }\n</style>\n<table border=\"1\" class=\"dataframe\">\n  <thead>\n    <tr style=\"text-align: right;\">\n      <th></th>\n      <th>text</th>\n      <th>twss</th>\n    </tr>\n  </thead>\n  <tbody>\n  </tbody>\n</table>\n</div>"
     },
     "metadata": {},
     "execution_count": 4
    }
   ],
   "source": [
    "df"
   ]
  },
  {
   "cell_type": "code",
   "execution_count": 5,
   "metadata": {},
   "outputs": [],
   "source": [
    "with open('data/twss-stories-parsed.txt') as f:\n",
    "    for sentence in f.readlines():\n",
    "        df = df.append({\n",
    "            'text': sentence.strip(),\n",
    "            'twss': 1\n",
    "        }, ignore_index=True)"
   ]
  },
  {
   "cell_type": "code",
   "execution_count": 6,
   "metadata": {},
   "outputs": [
    {
     "output_type": "execute_result",
     "data": {
      "text/plain": [
       "                                                   text twss\n",
       "0         you have to unhinge your jaw to get it all in    1\n",
       "1                   i want to go down i want to go down    1\n",
       "2                                   you need to get wet    1\n",
       "3                      it's twice as long as it is wide    1\n",
       "4                       i've never been this wet before    1\n",
       "...                                                 ...  ...\n",
       "2086  just close your eyes and shove it in your mout...    1\n",
       "2087                           it was coming at my face    1\n",
       "2088                            will you be wet forever    1\n",
       "2089                   i like the long thick black ones    1\n",
       "2090                  i think i cant swallow it anymore    1\n",
       "\n",
       "[2091 rows x 2 columns]"
      ],
      "text/html": "<div>\n<style scoped>\n    .dataframe tbody tr th:only-of-type {\n        vertical-align: middle;\n    }\n\n    .dataframe tbody tr th {\n        vertical-align: top;\n    }\n\n    .dataframe thead th {\n        text-align: right;\n    }\n</style>\n<table border=\"1\" class=\"dataframe\">\n  <thead>\n    <tr style=\"text-align: right;\">\n      <th></th>\n      <th>text</th>\n      <th>twss</th>\n    </tr>\n  </thead>\n  <tbody>\n    <tr>\n      <th>0</th>\n      <td>you have to unhinge your jaw to get it all in</td>\n      <td>1</td>\n    </tr>\n    <tr>\n      <th>1</th>\n      <td>i want to go down i want to go down</td>\n      <td>1</td>\n    </tr>\n    <tr>\n      <th>2</th>\n      <td>you need to get wet</td>\n      <td>1</td>\n    </tr>\n    <tr>\n      <th>3</th>\n      <td>it's twice as long as it is wide</td>\n      <td>1</td>\n    </tr>\n    <tr>\n      <th>4</th>\n      <td>i've never been this wet before</td>\n      <td>1</td>\n    </tr>\n    <tr>\n      <th>...</th>\n      <td>...</td>\n      <td>...</td>\n    </tr>\n    <tr>\n      <th>2086</th>\n      <td>just close your eyes and shove it in your mout...</td>\n      <td>1</td>\n    </tr>\n    <tr>\n      <th>2087</th>\n      <td>it was coming at my face</td>\n      <td>1</td>\n    </tr>\n    <tr>\n      <th>2088</th>\n      <td>will you be wet forever</td>\n      <td>1</td>\n    </tr>\n    <tr>\n      <th>2089</th>\n      <td>i like the long thick black ones</td>\n      <td>1</td>\n    </tr>\n    <tr>\n      <th>2090</th>\n      <td>i think i cant swallow it anymore</td>\n      <td>1</td>\n    </tr>\n  </tbody>\n</table>\n<p>2091 rows × 2 columns</p>\n</div>"
     },
     "metadata": {},
     "execution_count": 6
    }
   ],
   "source": [
    "df"
   ]
  },
  {
   "cell_type": "code",
   "execution_count": 7,
   "metadata": {},
   "outputs": [],
   "source": [
    "with open('data/fmylife-parsed.txt') as f:\n",
    "    for sentence in f.readlines():\n",
    "        df = df.append({\n",
    "            'text': sentence.strip(),\n",
    "            'twss': 0\n",
    "        }, ignore_index=True)"
   ]
  },
  {
   "cell_type": "code",
   "execution_count": 8,
   "metadata": {},
   "outputs": [
    {
     "output_type": "execute_result",
     "data": {
      "text/plain": [
       "                                                   text twss\n",
       "0         you have to unhinge your jaw to get it all in    1\n",
       "1                   i want to go down i want to go down    1\n",
       "2                                   you need to get wet    1\n",
       "3                      it's twice as long as it is wide    1\n",
       "4                       i've never been this wet before    1\n",
       "...                                                 ...  ...\n",
       "5437  why am i annoyed at him because he wants to go...    0\n",
       "5438  the only person who wished me a happy birthday...    0\n",
       "5439  my doctor told me my asthma was being triggere...    0\n",
       "5440  he wrote a note to my dad asking him to refrai...    0\n",
       "5441  my dad took one look at the note then threw it...    0\n",
       "\n",
       "[5442 rows x 2 columns]"
      ],
      "text/html": "<div>\n<style scoped>\n    .dataframe tbody tr th:only-of-type {\n        vertical-align: middle;\n    }\n\n    .dataframe tbody tr th {\n        vertical-align: top;\n    }\n\n    .dataframe thead th {\n        text-align: right;\n    }\n</style>\n<table border=\"1\" class=\"dataframe\">\n  <thead>\n    <tr style=\"text-align: right;\">\n      <th></th>\n      <th>text</th>\n      <th>twss</th>\n    </tr>\n  </thead>\n  <tbody>\n    <tr>\n      <th>0</th>\n      <td>you have to unhinge your jaw to get it all in</td>\n      <td>1</td>\n    </tr>\n    <tr>\n      <th>1</th>\n      <td>i want to go down i want to go down</td>\n      <td>1</td>\n    </tr>\n    <tr>\n      <th>2</th>\n      <td>you need to get wet</td>\n      <td>1</td>\n    </tr>\n    <tr>\n      <th>3</th>\n      <td>it's twice as long as it is wide</td>\n      <td>1</td>\n    </tr>\n    <tr>\n      <th>4</th>\n      <td>i've never been this wet before</td>\n      <td>1</td>\n    </tr>\n    <tr>\n      <th>...</th>\n      <td>...</td>\n      <td>...</td>\n    </tr>\n    <tr>\n      <th>5437</th>\n      <td>why am i annoyed at him because he wants to go...</td>\n      <td>0</td>\n    </tr>\n    <tr>\n      <th>5438</th>\n      <td>the only person who wished me a happy birthday...</td>\n      <td>0</td>\n    </tr>\n    <tr>\n      <th>5439</th>\n      <td>my doctor told me my asthma was being triggere...</td>\n      <td>0</td>\n    </tr>\n    <tr>\n      <th>5440</th>\n      <td>he wrote a note to my dad asking him to refrai...</td>\n      <td>0</td>\n    </tr>\n    <tr>\n      <th>5441</th>\n      <td>my dad took one look at the note then threw it...</td>\n      <td>0</td>\n    </tr>\n  </tbody>\n</table>\n<p>5442 rows × 2 columns</p>\n</div>"
     },
     "metadata": {},
     "execution_count": 8
    }
   ],
   "source": [
    "df"
   ]
  },
  {
   "cell_type": "code",
   "execution_count": 35,
   "metadata": {},
   "outputs": [],
   "source": [
    "with open('data/texts-from-last-night-parsed.txt') as f:\n",
    "    for sentence in f.readlines():\n",
    "        df = df.append({\n",
    "            'text': sentence.strip(),\n",
    "            'twss': 0\n",
    "        }, ignore_index=True)"
   ]
  },
  {
   "cell_type": "code",
   "execution_count": 36,
   "metadata": {},
   "outputs": [
    {
     "output_type": "execute_result",
     "data": {
      "text/plain": [
       "0    5796\n",
       "1    2091\n",
       "Name: twss, dtype: int64"
      ]
     },
     "metadata": {},
     "execution_count": 36
    }
   ],
   "source": [
    "df['twss'].value_counts()"
   ]
  },
  {
   "cell_type": "code",
   "execution_count": 37,
   "metadata": {},
   "outputs": [
    {
     "output_type": "execute_result",
     "data": {
      "text/plain": [
       "                   text  twss\n",
       "count              7887  7887\n",
       "unique             7846     2\n",
       "top     its my birthday     0\n",
       "freq                  3  5796"
      ],
      "text/html": "<div>\n<style scoped>\n    .dataframe tbody tr th:only-of-type {\n        vertical-align: middle;\n    }\n\n    .dataframe tbody tr th {\n        vertical-align: top;\n    }\n\n    .dataframe thead th {\n        text-align: right;\n    }\n</style>\n<table border=\"1\" class=\"dataframe\">\n  <thead>\n    <tr style=\"text-align: right;\">\n      <th></th>\n      <th>text</th>\n      <th>twss</th>\n    </tr>\n  </thead>\n  <tbody>\n    <tr>\n      <th>count</th>\n      <td>7887</td>\n      <td>7887</td>\n    </tr>\n    <tr>\n      <th>unique</th>\n      <td>7846</td>\n      <td>2</td>\n    </tr>\n    <tr>\n      <th>top</th>\n      <td>its my birthday</td>\n      <td>0</td>\n    </tr>\n    <tr>\n      <th>freq</th>\n      <td>3</td>\n      <td>5796</td>\n    </tr>\n  </tbody>\n</table>\n</div>"
     },
     "metadata": {},
     "execution_count": 37
    }
   ],
   "source": [
    "df.describe()"
   ]
  },
  {
   "cell_type": "code",
   "execution_count": 11,
   "metadata": {},
   "outputs": [],
   "source": [
    "from sklearn.model_selection import train_test_split\n",
    "from sklearn.naive_bayes import GaussianNB"
   ]
  },
  {
   "cell_type": "code",
   "execution_count": 38,
   "metadata": {},
   "outputs": [],
   "source": [
    "X=df['text']\n",
    "y=df['twss']"
   ]
  },
  {
   "cell_type": "code",
   "execution_count": 39,
   "metadata": {},
   "outputs": [],
   "source": [
    " X_train, X_test, y_train, y_test = train_test_split(X, y, test_size=0.3, random_state=0)"
   ]
  },
  {
   "cell_type": "code",
   "execution_count": 40,
   "metadata": {},
   "outputs": [
    {
     "output_type": "execute_result",
     "data": {
      "text/plain": [
       "((5520,), (2367,), (5520,), (2367,))"
      ]
     },
     "metadata": {},
     "execution_count": 40
    }
   ],
   "source": [
    "X_train.shape, X_test.shape, y_train.shape, y_test.shape"
   ]
  },
  {
   "source": [
    "### Saving model"
   ],
   "cell_type": "markdown",
   "metadata": {}
  },
  {
   "cell_type": "code",
   "execution_count": 87,
   "metadata": {},
   "outputs": [],
   "source": [
    "import joblib"
   ]
  },
  {
   "cell_type": "code",
   "execution_count": 88,
   "metadata": {},
   "outputs": [
    {
     "data": {
      "text/plain": [
       "['twss_model.sav']"
      ]
     },
     "execution_count": 88,
     "metadata": {},
     "output_type": "execute_result"
    }
   ],
   "source": [
    "joblib.dump(clf, 'twss_model.sav')"
   ]
  },
  {
   "cell_type": "code",
   "execution_count": 89,
   "metadata": {},
   "outputs": [],
   "source": [
    "clf_loaded = joblib.load('twss_model.sav')"
   ]
  },
  {
   "cell_type": "code",
   "execution_count": 90,
   "metadata": {},
   "outputs": [],
   "source": [
    "docs_new = ['It\\'s hard.', 'they will be held against you']\n",
    "X_new_counts = count_vect.transform(docs_new)\n",
    "X_new_tfidf = tfidf_transformer.transform(X_new_counts)\n",
    "\n",
    "predicted = clf_loaded.predict(X_new_tfidf)"
   ]
  },
  {
   "source": [
    "### Applying components through pipelines"
   ],
   "cell_type": "markdown",
   "metadata": {}
  },
  {
   "cell_type": "code",
   "execution_count": 17,
   "metadata": {},
   "outputs": [],
   "source": [
    "from sklearn.pipeline import Pipeline\n",
    "from sklearn.feature_extraction.text import CountVectorizer\n",
    "from sklearn.feature_extraction.text import TfidfTransformer\n",
    "from sklearn.naive_bayes import MultinomialNB"
   ]
  },
  {
   "cell_type": "code",
   "execution_count": 41,
   "metadata": {},
   "outputs": [],
   "source": [
    "text_clf = Pipeline([\n",
    "    ('vect', CountVectorizer()),\n",
    "    ('tfidf', TfidfTransformer()),\n",
    "    ('clf', MultinomialNB()),\n",
    "])"
   ]
  },
  {
   "cell_type": "code",
   "execution_count": 42,
   "metadata": {},
   "outputs": [
    {
     "output_type": "execute_result",
     "data": {
      "text/plain": [
       "Pipeline(steps=[('vect', CountVectorizer()), ('tfidf', TfidfTransformer()),\n",
       "                ('clf', MultinomialNB())])"
      ]
     },
     "metadata": {},
     "execution_count": 42
    }
   ],
   "source": [
    "text_clf.fit(X_train, y_train.astype(int))"
   ]
  },
  {
   "cell_type": "code",
   "execution_count": 43,
   "metadata": {},
   "outputs": [],
   "source": [
    "import joblib"
   ]
  },
  {
   "cell_type": "code",
   "execution_count": 44,
   "metadata": {},
   "outputs": [
    {
     "output_type": "execute_result",
     "data": {
      "text/plain": [
       "['twss_model.sav']"
      ]
     },
     "metadata": {},
     "execution_count": 44
    }
   ],
   "source": [
    "joblib.dump(text_clf, 'twss_model.sav')"
   ]
  },
  {
   "cell_type": "code",
   "execution_count": 45,
   "metadata": {},
   "outputs": [],
   "source": [
    "twss_model_loaded = joblib.load('twss_model.sav')"
   ]
  },
  {
   "source": [
    "### Prediction"
   ],
   "cell_type": "markdown",
   "metadata": {}
  },
  {
   "cell_type": "code",
   "execution_count": 46,
   "metadata": {},
   "outputs": [
    {
     "output_type": "execute_result",
     "data": {
      "text/plain": [
       "0"
      ]
     },
     "metadata": {},
     "execution_count": 46
    }
   ],
   "source": [
    "twss_model_loaded.predict([\n",
    "    'Hello there'\n",
    "])[0]"
   ]
  },
  {
   "cell_type": "code",
   "execution_count": 48,
   "metadata": {},
   "outputs": [],
   "source": [
    "y_predicted=text_clf.predict(X_test)"
   ]
  },
  {
   "cell_type": "code",
   "execution_count": 49,
   "metadata": {
    "tags": [
     "outputPrepend"
    ]
   },
   "outputs": [
    {
     "output_type": "stream",
     "name": "stdout",
     "text": [
      "hard you just have to put it in the right place 1\nwhy oh why did i suck thise tits 0\nits so thick i cant get my hands around it 1\nughh it hurts when i swallow 1\noh no its leaking white stuff 1\ni rarely go in there 0\nhere put it in my hands and ill lick it from the bottom for you 1\nwell i would need to wet it down before i slide down it 1\noh yeah im fine i just had something stuck in my throat 1\noh oh my god im blowing all these guys 1\nwow you got me all wet and sticky 1\ni cant wait to shove that foot-long in my mouth 1\nit went right in my mouth ew ew ew 1\nits a good three inches deep you should be able to fit a nice big sized rod in there 1\ni cant its too tight 1\ncome on put your mouth on it suck it suck it kathy 1\ncan we finish this orally my hand is starting to hurt 1\noh it feels so good you just insert here and squeeze 1\ni think i can squeeze you in 1\ni cant stretch it over the thingy 1\nwow i didnt know what to expect and then it just came on my face 1\nive never done one this big before 1\nyoure sticking it in the wrong hole 1\ndo you know how much it sucks to wake up to a vibrator every day and she goes well thats got to be better than the real thing 1\nadam stop spraying my face youre making me all wet 1\nis it hard to blow 1\nyou have to lick it and then blow it 1\nomg im so wet twss i then replied i know lets go in deeper 1\nbut hes doing it so hard and fast 1\ni know ive never had to swallow one this big 1\nwow you suck a lot you suck more than i do 1\ncome get me 0\nits growing bigger and bigger and it wont stop 1\nman i hate the feeling of wet wood in my mouth 1\ncan you just get it in already 1\njust put your hand down there and grab it 1\ndrive those balls deep 1\nwhat the hell is wrong with you i couldnt get all that meat in my mouth even if i push it in all the way down my throat 1\ndude just stick it in this one it accepts cash 1\nno i want to see balls 1\nits so hard i cant do it anymore 1\nim sucking but nothing is coming in my mouth 1\nomg it just popped out in my face 1\nwow baby you sure were a trooper taking all those balls to the face 1\ni cant get it back in the hole 1\nyou just gotta stick it in there and move it around until the hole gets bigger and that makes it easier to put it in next time 1\nyou can just come you dont have to eat 1\ndont you dare blow on me 1\noh my god it just squirted all over my hand 1\nare you ok because she was struggling she said yeah but its too big i cant fit it in my mouth 1\nhoney i dont think this is going to fit 1\nhey you forgot your wet suit in my room you can come grab it whenever 0\nomg its soo hot its all over my mouth and down my throat 1\nill be wet before i get it up 1\noh please dont pull out before i get there 1\nhey get out of my bush 1\nit keeps going in and popping out again 1\njust keep pushing itll come 1\nhave a look in the crack and see if you can see anything white 1\nwe havent done 69 in a long time so you might not remember how to do it 1\nman this stick is stiff and i say dont press too hard or youll break it 1\nhow come mine isnt big enough and the other girl said i dont know maybe the holes too small 1\nno its ok you dont need to pull it out 1\nits not even wet yet and u wanna go faster 1\nright ill go down on this one 1\nwait let me put that between my legs so you don't have to hold it like that 1\nwow this ones a mouthful 1\nhow many bratwuest were you able to fit in your mouth at one time its me hans 0\nthe main goal i have here is to be able to take it out and pop it straight in my mouth without any pain 1\nthe little ones make it last longer 1\nyou have to wrap your hands around it and rub it up and down vigorously 1\nhey can i use your ipad 1\njust angle your body right and that sucker in 1\nyou didnt put it in far enough 1\ni think i cant swallow it anymore 1\nyeah going in is a lot tougher than coming back out 1\nthere should be a hole right around here where you can stick the staff in hopefully it fits 1\ni feel so big it almost hurts 1\nstop forcing me in already when im ready ill come 1\nyou need to stay in longer your pulling out too soon 1\nwow i didnt know he could get that long 1\ni cant spread my legs far enough to get on it 1\nit only gets hard when it hits me in the face 1\nwhy its just like a big ipod touch 1\nit was so big it wouldnt fit in my mouth 1\nthen i caught a massive one and rode it till all that white stuff was gone 1\ncmon you said youd do it i then said no im too tired youve never done it before have you she asked yes i have i answered then lets do it 1\nwow thats a deep dark crack down there 1\ngod how many times do i have to blow this thing to make it turn on 1\ntheres too much meat in my taco 1\nits not huge but its big enough 1\nugh love the taste but hate the texture 1\nyoure gonna have to play with getting your hole wide enough 1\nhmm its long black and thick 1\nmr jones how will you be giving the quiz to us passing it out written on the board and he replies oh im just going to give it to you orally 1\ni could blow better than him twss i replied at least he has a nicely trimmed bush 1\nblows to hard it gets all over get face 1\ni cant get it out of my throat its like stuck in there 1\nahh it exploded in my mouth but it tastes pretty good 1\nthese things are great you just slide it up and down on the bar but you have to make sure its sticky not too sticky because then it doesnt budge but if it is too loose it just slides up and down with no control 1\ni keep sucking but nothing will come out 1\nits huge its like this long and that big around 1\nwhere do i stick this thing and then without thinking i say stick it in that hole but hurry up im getting wet 1\nits really dry do you want me to pull it out now 1\nit didnt fit in mine either but i just stuck it in 1\nno honey not that hole its too small i dont think it will fit try again 1\ni like the long skinny ones those are very in 1\nits too small i wont be able to play with this 1\nits pretty big so you better get it in to me 1\noh my god its way to big it wont fit 1\ncareful that ones really hard and slippery 1\nstick it in your mouth and blow quickly 1\nits easier to use your hand its faster 1\nhey no judgement here 0\noops sorry i swallowed 1\nwhat i like stuffing it all in my mouth at once 1\nso how do you know when to pull out 1\nmy hands are busy just put it in my mouth 1\nyou have to pull it out shake it a little give it a minute then stick it in really fast 1\nugh why is it so slippery the gym teacher: i think it might have been the group that was just using it eew thats disgusting can i have a different one sure go grab that black one over there whats the matter just suck it up its going to be over in a couple seconds anyways you guys might not care if its dirty but us girls sure do 1\ngeez it just keeps getting harder and harder the more you play with it 1\nhow am i supposed to do this its so short 1\nit hurts when i put it in and out 1\ndillan you squirted it on me im wet 1\nthis is so hard it wont fit in the teacher said try opening the hole a little bit still he says its still too small finally the teacher walks closer and says okay let me hold your wood and you drill it in 1\ni can feel it with my hand but i cant put it in the right spot 1\nthere used to be a bush there but its not there anymore 1\ni think i need a big black one 1\ni came so hard that my back seriously popped like 5 times 0\ndont put it in yet 1\nit amzig 0\nit was mostly oral 1\ngod its just so big and it bulges out there 1\nno way that is too big 1\njust put it in make sure it wont come out and i will take care of the rest 1\ncan that thing even spurt cream out anymore 1\nwhen you lick it you get white stuff on your tongue 1\now please dont put it in that hole it really hurts 1\nhow big is this thing gonna get 1\ndamn it adam i could actually get some if you didnt keep pulling out so fast 1\nand you said quitting would be hard 0\nhe cant get it in his hand is shaking too much 1\nmy professor just used the phrase balls deep in your mind 0\nlets do it orally it will be faster 1\ni have to change positions its all sticky over here 1\nahh it hit me right in the face 1\ntake off the wrapper and pop that sucker in 1\nyou may be able to get it to fit but it is a really tight space 1\ncan you stop making my hole bigger 1\nstop blowing on it to which i replied im not blowing anymore im fingering 1\nstop shoving it into me theres already one in there 1\nyeah i thought it was gonna be a little long but it was actually kinda short it fit perfectly 1\nthats terrible 0\nbut its so much more fun when its big 1\noh really so you're really good at itâ€¦the ball just goes in one hole and out anotherâ€¦takes about an hour 1\nim the same way i just suck on it until it melts 1\nyou can suck them and suck them and suck them and they will never get any smaller 1\ndont poke it with a stick just run off and play with your balls 1\nyou want to go in there dont you big boy 1\noh man i have never been so wet and sore in my whole life 1\ni like the bigger ones cuz they last longer 1\nis it suppose to hurt like that twss he said it will only hurt the first couple of times 1\nit tastes better than it smells 1\ni dont know if i can fit another one in ive already had so much junk inside me this week 1\nyour rod and shaft comfort me in great pleasure 1\nwell i dont 0\ni guess i just liked sticks better than balls 1\ni cant get it in the hole its too hard he finally succeeds in getting it in and shouts i got in in the hole 1\ndont spread your legs because im coming 1\ni will wait until its hard 1\nooh i love the long juicy ones 1\ni cant go out like that 0\ni just put the whole thing in my mouth and suck on it 1\nyou gotta wiggle it around a little bit its kinda funky 1\nyou have to pull it long and hard until it comes 1\nstop the more you rub it the more it comes 1\nits too soft to blow my other partner said once it gets harder its easier to blow once my friend succeeded in blowing the bubble she said aloud damn im a good blower 1\nthe hole is too small it wont fit 1\ni should blow this as hard as i can 1\nyou have to wait for it to get hard and firm and then you can put it in 1\nstop youre stretching my hole 1\nits going to be a long semester 0\nthis is going to be a big one here it comes 1\ni cant feel my fingers or toes 0\nwhy is he riding my butt so hard 1\nugh i keep sucking and sucking and sucking as hard as i can but nothing is coming out 1\ndont poke me with that its got white stuff on it 1\nthis sucks im all wet and i dont know where i am 1\nyou need to quit sticking your fingers in things 1\ni know it was soooo fast 1\nwhy the heck wont it go in oh its not stiff enough 1\nthis is really hard to swallow 1\noh come on just stick it in already 1\ndang i felt that one go in 1\ni got a super short pixie cut 0\ni cant its so hard and my mouth is starting to hurt 1\nwhen i opened it it was hard then i bit into it and it tasted bad my sister then says yeah i dont like them hard 1\nits been in your mouth for half an hour either spit it out or swallow it 1\nput it back in and this time wait until you finish to pull it out 1\nlong strokes are more efficient you can finish in half the time short strokes tire you out faster 1\nwow thats the most impressive thing ive ever seen 1\nif i did that harder it would have gone everywhere 1\nmr meyer its just too hard and i cant bear it any longer can you just remove it to which she gets the response im sorry youll just have to bear with it i know its hard but its just as hard for everybody else 1\ni keep sucking but its not coming 1\ndont pull out do not pull out 1\ndo you have a onepiece i can borrow 0\ndoes it really matter if its bent youre just going to take it out in a minute anyway 1\nim not good at this its too hard to blow without realizing he said 1\ndamn that shit is going back and forth so fast i cant even see it 1\nwe only put hard things in our mouth 1\new i just did all of that work and now i have white stuff all over my hands 1\nthis is great its one quick gulp then youre ready for another 1\nyou know it actually feels better the farther in you go once youre all the way in it feels perfect 1\nawww man i wish it was longer 1\noh my knees hurt can you remind me not to kneel next time 1\nokay liam stick it in there 1\nmy hands hurt can we take a break 1\nsqueeze it really hard until it comes 1\nstick the narrower part in first it goes in easier that way 1\noh yeah its the blackest one ive ever seen and it lasts a really long time 1\ni dont think its going to fit maybe we should get it wet then it will slide in really easy 1\nyou can try and stick it in there but its going to get really tight 1\nyou can lick it all you want but dont bite it 1\nno because it will take me longer than you to finish 1\nthats too much meat to put inside your body at once but i enjoy it 1\ngrab me around the body here now lean back and kinda thrust a few times just like that a little more oh god that feels so much better you can put me down now 1\nyeah the bigger it is the harder it is 1\nthe balls are just hanging there noticing that they were in a little hole in the fence i added are they stuck in the hole 1\noops is that ok and my mom said thats fine its better when you go deep 1\nwow you are done already 1\ntoo late its already in my mouth and it tastes fine to me 1\nugh mine wont fit twss the teacher looks at her and the person says no matter what i do im never going to get this to fit in here 1\nits so small but its so fun and nice to play with 1\njust stick that wherever it fits theres gotta be a big enough hole somewhere 1\ndo you really want it going into your mouth when you are sleeping 1\ncome build stuff with me 0\nyou guys are never going to get a good sound that way it doesnt matter if your fingerings are perfect or if your tounging is great if you dont control your air and blow in a steady unbreakable stream you will never be successful its all in how you blow 1\nits big its slow and its gonna be long 1\noh god it squirted all over my face 1\nwhoa looks like something big went down here 1\nwow its not as hard as its supposed to be 1\nit came all over me and im all wet 1\nbecause i always need something in my mouth 1\nshove it in deeper we dont want it slipping out 1\nthe dentist said i should just massage it nice and easy to make it feel harder 1\ni have a lamp thats supposed to have a genie in it i keep rubbing it but nothing ever comes out 1\nyeah he doesnt get it 0\ndont expect me to keep sucking on it before i swallow 1\ni spit that out usually i swallow that sh*it 1\nxxxxxxx to yyyyyy: omg awesomee how long was it did you have funnnn 1\noh my gosh i love dicks 1\nguys are you sure that you wanna go like that im free i have nothing better to do and if you want i can give each of you a ride if you guys want especially you michael youre my favourite 1\noh dont worry when they see you coming they pull it out 1\nyeah but i hate when you blow really hard and it explodes all over your face 1\nholy fuck why is this so hard 1\nyoure sticking out 1\nit was hard but kinda fun 1\nyou need to be careful with your fingering or else you wont make it all the way up 1\nonce you suck all the juice out its pretty much good for nothing 1\nhere ill just put it in quick and fast the other proceeded to say no its too big it will rip 1\nonce i've been drinking a lot my top comes off pretty easily 1\nare you stiff yet 1\nwould you like the black one or the white one she answered it doesnt matter ill suck on both 1\nthats never gunna work and i replied it will do ive fit bigger ones in 1\nno thanks the little ones dont last long i prefer the bigger thicker ones 1\ni guess i was so excited that i just couldnt wait to get it in my mouth remind me never to put something so big and hard in my mouth again it really tore it up 1\nbe careful i dont want it going off too soon again 1\nthat was easy i didnt even have to bang it 1\nand then it started coming out of the bottom hole so i had to lick it up before it made a mess 1\nim sorry if its a little dusty down there 1\nwow thats a good oneyou should pull it out at parties 1\nhow do you make it hard to which my friend replied you have to go up and down 1\nwell were not going to just shove something in jerk it around and then pull it out again 1\nyeah so i had to sit there and blow it really good so it would be dry 1\ni love the taste but its just too big to fit in my mouth 1\nshew i wish a ride could get me wet for once 1\ni just squirted everywhere 1\nim having a hard time getting it in it just wont go in its too big 1\nyou need to pull it out lick it and stick it back in 1\ni didnt get my mouth over it before it shot out but it all shot in my mouth anyway 1\nugh a big glob just landed on my cheek 1\ncan you go a little deeper 1\nwell if it will get you to come sure its my first time 1\nman this thing looks small but its got alot of surface area 1\nyeah whenever you stuff it too much it rips 1\nthis feels weird in my mouth 1\nim all wet and sticky 1\nyeah she gets off really easily 1\nwow this is big i dont know if i can fit this in my mouth 1\nim pulling out now to which i replied just hold on im coming 1\nits not a big load 1\ncareful its real slippery in there 1\nhow do you eat pumpkin seeds do you bake them with seasoning first and my other friend said no i just suck on em and swallow 1\nit is so hard and impossible to make it very long my grandma said ever so supportingly dont think of it as hard think of it as a fun experience 1\nwhen its thicker its usually shorter 1\ni cant get it to go in i dont know what to do 1\nthat hole is so hairy 1\ni cant it wont go in any further and if i push it anymore itll get stuck 1\ni took so long trying to shove it in the damn hole i was like thats what she said then she showed me the differences of the cords and said see look at how much smaller it is 1\ngreat now im all wet we have to get it out quick 1\nyoure going to have to take it out and turn it around then then put it back in because its too big and wet 1\nstop it youre making me all wet 1\nok guys this thing is big and its super hard so what were going to do is hover right over it tackle it and then lower ourselves into it until it sprays got it 1\nits sooo hard i cant fit it in its just too small our bio teacher seeing that she was in distress proceeded to say wait im coming 1\nill scream if you dont give it to me 1\nthe hole is not big enough 1\noh i like this one better its bigger 1\nim sorry i cant swallow this one 1\nwow its so big i cant even open my mouth wide enough to fit the whole thing in 1\noh that was a great entry boys 1\nnow it shouldnt hurt it just might be a little tight going in there but once its in there and going back and forth there shouldnt be any pain the only bad thing about it is the annoying grinding noise it makes 1\nthis is too short its just silly 1\nliked to suck on them until they get soft 1\nit wont go in then i asked are you sure its in the right way then she said hold on let me use both hands 1\ndont pull it out yet youre not finished 1\nhave you tried taking it out and putting it back in yeah i put it in all the wayohh wait its coming now 1\nthis ones ugly but doable 1\nthis is a long and hard one so ride it the hardest and fastest you can 1\nif you dont stop sticking that thing in me ill break it off 1\nit goes down easy but is hard to get it back up 1\nyou look like youre doing well and he replied it only looks big because its all red 1\njust stick it in already 1\njust pull it out while youre sucking on it 1\nits funny im taller than rob zombie to which i replied i cant believe how small he is i thought hed be bigger 1\njust stick it innot there not there 1\nwow thats really stretching it 1\nwhy do you have to put this one here i think they look so much better without the rubber 1\npush it in slowly 1\nill have a 12 inch italian 1\noh come on if its really tiny well just ride it twice 1\nit goes to sleep if i dont touch it for too long 1\nwait how many fingers do i use for this (twss) my teacher replied well i normally use three but whatever you want 1\ncould fit a little more in 1\nthey look thick to begin with but when you put them in your mouth it is really quite surprising our thick they really are 1\n"
     ]
    }
   ],
   "source": [
    "for i, result in enumerate(y_predicted):\n",
    "    if result==1:\n",
    "        print(X_test.iloc[i], y_test.iloc[i])"
   ]
  },
  {
   "cell_type": "code",
   "execution_count": 50,
   "metadata": {},
   "outputs": [
    {
     "output_type": "execute_result",
     "data": {
      "text/plain": [
       "0.9091677228559358"
      ]
     },
     "metadata": {},
     "execution_count": 50
    }
   ],
   "source": [
    "np.mean(y_predicted == y_test)"
   ]
  }
 ],
 "metadata": {
  "kernelspec": {
   "name": "python3",
   "display_name": "Python 3.9.1 64-bit ('twss': conda)",
   "metadata": {
    "interpreter": {
     "hash": "5fde6e57d03a9d4f5ecd14c5d7d0d97e479d3595f023efeac15c0a24a5bdb7bc"
    }
   }
  },
  "language_info": {
   "codemirror_mode": {
    "name": "ipython",
    "version": 3
   },
   "file_extension": ".py",
   "mimetype": "text/x-python",
   "name": "python",
   "nbconvert_exporter": "python",
   "pygments_lexer": "ipython3",
   "version": "3.9.1-final"
  }
 },
 "nbformat": 4,
 "nbformat_minor": 4
}