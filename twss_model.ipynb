{
 "cells": [
  {
   "cell_type": "markdown",
   "source": [
    "A simple Naive Bayes model"
   ],
   "metadata": {}
  },
  {
   "cell_type": "code",
   "execution_count": 2,
   "source": [
    "import pandas as pd\r\n",
    "import numpy as np"
   ],
   "outputs": [],
   "metadata": {}
  },
  {
   "cell_type": "code",
   "execution_count": 3,
   "source": [
    "df = pd.DataFrame(columns=['text','twss'])"
   ],
   "outputs": [],
   "metadata": {}
  },
  {
   "cell_type": "code",
   "execution_count": 4,
   "source": [
    "df"
   ],
   "outputs": [
    {
     "output_type": "execute_result",
     "data": {
      "text/plain": [
       "Empty DataFrame\n",
       "Columns: [text, twss]\n",
       "Index: []"
      ],
      "text/html": [
       "<div>\n",
       "<style scoped>\n",
       "    .dataframe tbody tr th:only-of-type {\n",
       "        vertical-align: middle;\n",
       "    }\n",
       "\n",
       "    .dataframe tbody tr th {\n",
       "        vertical-align: top;\n",
       "    }\n",
       "\n",
       "    .dataframe thead th {\n",
       "        text-align: right;\n",
       "    }\n",
       "</style>\n",
       "<table border=\"1\" class=\"dataframe\">\n",
       "  <thead>\n",
       "    <tr style=\"text-align: right;\">\n",
       "      <th></th>\n",
       "      <th>text</th>\n",
       "      <th>twss</th>\n",
       "    </tr>\n",
       "  </thead>\n",
       "  <tbody>\n",
       "  </tbody>\n",
       "</table>\n",
       "</div>"
      ]
     },
     "metadata": {},
     "execution_count": 4
    }
   ],
   "metadata": {}
  },
  {
   "cell_type": "code",
   "execution_count": 5,
   "source": [
    "with open('data/twss-stories-parsed.txt') as f:\r\n",
    "    for sentence in f.readlines():\r\n",
    "        df = df.append({\r\n",
    "            'text': sentence.strip(),\r\n",
    "            'twss': 1\r\n",
    "        }, ignore_index=True)"
   ],
   "outputs": [],
   "metadata": {}
  },
  {
   "cell_type": "code",
   "execution_count": 6,
   "source": [
    "df"
   ],
   "outputs": [
    {
     "output_type": "execute_result",
     "data": {
      "text/plain": [
       "                                                   text twss\n",
       "0         you have to unhinge your jaw to get it all in    1\n",
       "1                   i want to go down i want to go down    1\n",
       "2                                   you need to get wet    1\n",
       "3                      it's twice as long as it is wide    1\n",
       "4                       i've never been this wet before    1\n",
       "...                                                 ...  ...\n",
       "2086  just close your eyes and shove it in your mout...    1\n",
       "2087                           it was coming at my face    1\n",
       "2088                            will you be wet forever    1\n",
       "2089                   i like the long thick black ones    1\n",
       "2090                  i think i cant swallow it anymore    1\n",
       "\n",
       "[2091 rows x 2 columns]"
      ],
      "text/html": [
       "<div>\n",
       "<style scoped>\n",
       "    .dataframe tbody tr th:only-of-type {\n",
       "        vertical-align: middle;\n",
       "    }\n",
       "\n",
       "    .dataframe tbody tr th {\n",
       "        vertical-align: top;\n",
       "    }\n",
       "\n",
       "    .dataframe thead th {\n",
       "        text-align: right;\n",
       "    }\n",
       "</style>\n",
       "<table border=\"1\" class=\"dataframe\">\n",
       "  <thead>\n",
       "    <tr style=\"text-align: right;\">\n",
       "      <th></th>\n",
       "      <th>text</th>\n",
       "      <th>twss</th>\n",
       "    </tr>\n",
       "  </thead>\n",
       "  <tbody>\n",
       "    <tr>\n",
       "      <th>0</th>\n",
       "      <td>you have to unhinge your jaw to get it all in</td>\n",
       "      <td>1</td>\n",
       "    </tr>\n",
       "    <tr>\n",
       "      <th>1</th>\n",
       "      <td>i want to go down i want to go down</td>\n",
       "      <td>1</td>\n",
       "    </tr>\n",
       "    <tr>\n",
       "      <th>2</th>\n",
       "      <td>you need to get wet</td>\n",
       "      <td>1</td>\n",
       "    </tr>\n",
       "    <tr>\n",
       "      <th>3</th>\n",
       "      <td>it's twice as long as it is wide</td>\n",
       "      <td>1</td>\n",
       "    </tr>\n",
       "    <tr>\n",
       "      <th>4</th>\n",
       "      <td>i've never been this wet before</td>\n",
       "      <td>1</td>\n",
       "    </tr>\n",
       "    <tr>\n",
       "      <th>...</th>\n",
       "      <td>...</td>\n",
       "      <td>...</td>\n",
       "    </tr>\n",
       "    <tr>\n",
       "      <th>2086</th>\n",
       "      <td>just close your eyes and shove it in your mout...</td>\n",
       "      <td>1</td>\n",
       "    </tr>\n",
       "    <tr>\n",
       "      <th>2087</th>\n",
       "      <td>it was coming at my face</td>\n",
       "      <td>1</td>\n",
       "    </tr>\n",
       "    <tr>\n",
       "      <th>2088</th>\n",
       "      <td>will you be wet forever</td>\n",
       "      <td>1</td>\n",
       "    </tr>\n",
       "    <tr>\n",
       "      <th>2089</th>\n",
       "      <td>i like the long thick black ones</td>\n",
       "      <td>1</td>\n",
       "    </tr>\n",
       "    <tr>\n",
       "      <th>2090</th>\n",
       "      <td>i think i cant swallow it anymore</td>\n",
       "      <td>1</td>\n",
       "    </tr>\n",
       "  </tbody>\n",
       "</table>\n",
       "<p>2091 rows × 2 columns</p>\n",
       "</div>"
      ]
     },
     "metadata": {},
     "execution_count": 6
    }
   ],
   "metadata": {}
  },
  {
   "cell_type": "code",
   "execution_count": 7,
   "source": [
    "with open('data/fmylife-parsed.txt') as f:\r\n",
    "    for sentence in f.readlines():\r\n",
    "        df = df.append({\r\n",
    "            'text': sentence.strip(),\r\n",
    "            'twss': 0\r\n",
    "        }, ignore_index=True)"
   ],
   "outputs": [],
   "metadata": {}
  },
  {
   "cell_type": "code",
   "execution_count": 8,
   "source": [
    "df"
   ],
   "outputs": [
    {
     "output_type": "execute_result",
     "data": {
      "text/plain": [
       "                                                   text twss\n",
       "0         you have to unhinge your jaw to get it all in    1\n",
       "1                   i want to go down i want to go down    1\n",
       "2                                   you need to get wet    1\n",
       "3                      it's twice as long as it is wide    1\n",
       "4                       i've never been this wet before    1\n",
       "...                                                 ...  ...\n",
       "5437  why am i annoyed at him because he wants to go...    0\n",
       "5438  the only person who wished me a happy birthday...    0\n",
       "5439  my doctor told me my asthma was being triggere...    0\n",
       "5440  he wrote a note to my dad asking him to refrai...    0\n",
       "5441  my dad took one look at the note then threw it...    0\n",
       "\n",
       "[5442 rows x 2 columns]"
      ],
      "text/html": [
       "<div>\n",
       "<style scoped>\n",
       "    .dataframe tbody tr th:only-of-type {\n",
       "        vertical-align: middle;\n",
       "    }\n",
       "\n",
       "    .dataframe tbody tr th {\n",
       "        vertical-align: top;\n",
       "    }\n",
       "\n",
       "    .dataframe thead th {\n",
       "        text-align: right;\n",
       "    }\n",
       "</style>\n",
       "<table border=\"1\" class=\"dataframe\">\n",
       "  <thead>\n",
       "    <tr style=\"text-align: right;\">\n",
       "      <th></th>\n",
       "      <th>text</th>\n",
       "      <th>twss</th>\n",
       "    </tr>\n",
       "  </thead>\n",
       "  <tbody>\n",
       "    <tr>\n",
       "      <th>0</th>\n",
       "      <td>you have to unhinge your jaw to get it all in</td>\n",
       "      <td>1</td>\n",
       "    </tr>\n",
       "    <tr>\n",
       "      <th>1</th>\n",
       "      <td>i want to go down i want to go down</td>\n",
       "      <td>1</td>\n",
       "    </tr>\n",
       "    <tr>\n",
       "      <th>2</th>\n",
       "      <td>you need to get wet</td>\n",
       "      <td>1</td>\n",
       "    </tr>\n",
       "    <tr>\n",
       "      <th>3</th>\n",
       "      <td>it's twice as long as it is wide</td>\n",
       "      <td>1</td>\n",
       "    </tr>\n",
       "    <tr>\n",
       "      <th>4</th>\n",
       "      <td>i've never been this wet before</td>\n",
       "      <td>1</td>\n",
       "    </tr>\n",
       "    <tr>\n",
       "      <th>...</th>\n",
       "      <td>...</td>\n",
       "      <td>...</td>\n",
       "    </tr>\n",
       "    <tr>\n",
       "      <th>5437</th>\n",
       "      <td>why am i annoyed at him because he wants to go...</td>\n",
       "      <td>0</td>\n",
       "    </tr>\n",
       "    <tr>\n",
       "      <th>5438</th>\n",
       "      <td>the only person who wished me a happy birthday...</td>\n",
       "      <td>0</td>\n",
       "    </tr>\n",
       "    <tr>\n",
       "      <th>5439</th>\n",
       "      <td>my doctor told me my asthma was being triggere...</td>\n",
       "      <td>0</td>\n",
       "    </tr>\n",
       "    <tr>\n",
       "      <th>5440</th>\n",
       "      <td>he wrote a note to my dad asking him to refrai...</td>\n",
       "      <td>0</td>\n",
       "    </tr>\n",
       "    <tr>\n",
       "      <th>5441</th>\n",
       "      <td>my dad took one look at the note then threw it...</td>\n",
       "      <td>0</td>\n",
       "    </tr>\n",
       "  </tbody>\n",
       "</table>\n",
       "<p>5442 rows × 2 columns</p>\n",
       "</div>"
      ]
     },
     "metadata": {},
     "execution_count": 8
    }
   ],
   "metadata": {}
  },
  {
   "cell_type": "code",
   "execution_count": 35,
   "source": [
    "with open('data/texts-from-last-night-parsed.txt') as f:\r\n",
    "    for sentence in f.readlines():\r\n",
    "        df = df.append({\r\n",
    "            'text': sentence.strip(),\r\n",
    "            'twss': 0\r\n",
    "        }, ignore_index=True)"
   ],
   "outputs": [],
   "metadata": {}
  },
  {
   "cell_type": "code",
   "execution_count": 36,
   "source": [
    "df['twss'].value_counts()"
   ],
   "outputs": [
    {
     "output_type": "execute_result",
     "data": {
      "text/plain": [
       "0    5796\n",
       "1    2091\n",
       "Name: twss, dtype: int64"
      ]
     },
     "metadata": {},
     "execution_count": 36
    }
   ],
   "metadata": {}
  },
  {
   "cell_type": "code",
   "execution_count": 37,
   "source": [
    "df.describe()"
   ],
   "outputs": [
    {
     "output_type": "execute_result",
     "data": {
      "text/plain": [
       "                   text  twss\n",
       "count              7887  7887\n",
       "unique             7846     2\n",
       "top     its my birthday     0\n",
       "freq                  3  5796"
      ],
      "text/html": [
       "<div>\n",
       "<style scoped>\n",
       "    .dataframe tbody tr th:only-of-type {\n",
       "        vertical-align: middle;\n",
       "    }\n",
       "\n",
       "    .dataframe tbody tr th {\n",
       "        vertical-align: top;\n",
       "    }\n",
       "\n",
       "    .dataframe thead th {\n",
       "        text-align: right;\n",
       "    }\n",
       "</style>\n",
       "<table border=\"1\" class=\"dataframe\">\n",
       "  <thead>\n",
       "    <tr style=\"text-align: right;\">\n",
       "      <th></th>\n",
       "      <th>text</th>\n",
       "      <th>twss</th>\n",
       "    </tr>\n",
       "  </thead>\n",
       "  <tbody>\n",
       "    <tr>\n",
       "      <th>count</th>\n",
       "      <td>7887</td>\n",
       "      <td>7887</td>\n",
       "    </tr>\n",
       "    <tr>\n",
       "      <th>unique</th>\n",
       "      <td>7846</td>\n",
       "      <td>2</td>\n",
       "    </tr>\n",
       "    <tr>\n",
       "      <th>top</th>\n",
       "      <td>its my birthday</td>\n",
       "      <td>0</td>\n",
       "    </tr>\n",
       "    <tr>\n",
       "      <th>freq</th>\n",
       "      <td>3</td>\n",
       "      <td>5796</td>\n",
       "    </tr>\n",
       "  </tbody>\n",
       "</table>\n",
       "</div>"
      ]
     },
     "metadata": {},
     "execution_count": 37
    }
   ],
   "metadata": {}
  },
  {
   "cell_type": "code",
   "execution_count": 11,
   "source": [
    "from sklearn.model_selection import train_test_split\r\n",
    "from sklearn.naive_bayes import GaussianNB"
   ],
   "outputs": [],
   "metadata": {}
  },
  {
   "cell_type": "code",
   "execution_count": 38,
   "source": [
    "X=df['text']\r\n",
    "y=df['twss']"
   ],
   "outputs": [],
   "metadata": {}
  },
  {
   "cell_type": "code",
   "execution_count": 39,
   "source": [
    " X_train, X_test, y_train, y_test = train_test_split(X, y, test_size=0.3, random_state=0)"
   ],
   "outputs": [],
   "metadata": {}
  },
  {
   "cell_type": "code",
   "execution_count": 40,
   "source": [
    "X_train.shape, X_test.shape, y_train.shape, y_test.shape"
   ],
   "outputs": [
    {
     "output_type": "execute_result",
     "data": {
      "text/plain": [
       "((5520,), (2367,), (5520,), (2367,))"
      ]
     },
     "metadata": {},
     "execution_count": 40
    }
   ],
   "metadata": {}
  },
  {
   "cell_type": "markdown",
   "source": [
    "### Saving model"
   ],
   "metadata": {}
  },
  {
   "cell_type": "code",
   "execution_count": 87,
   "source": [
    "import joblib"
   ],
   "outputs": [],
   "metadata": {}
  },
  {
   "cell_type": "code",
   "execution_count": 88,
   "source": [
    "joblib.dump(clf, 'twss_model.sav')"
   ],
   "outputs": [
    {
     "output_type": "execute_result",
     "data": {
      "text/plain": [
       "['twss_model.sav']"
      ]
     },
     "metadata": {},
     "execution_count": 88
    }
   ],
   "metadata": {}
  },
  {
   "cell_type": "code",
   "execution_count": 89,
   "source": [
    "clf_loaded = joblib.load('twss_model.sav')"
   ],
   "outputs": [],
   "metadata": {}
  },
  {
   "cell_type": "code",
   "execution_count": 90,
   "source": [
    "docs_new = ['It\\'s hard.', 'they will be held against you']\r\n",
    "X_new_counts = count_vect.transform(docs_new)\r\n",
    "X_new_tfidf = tfidf_transformer.transform(X_new_counts)\r\n",
    "\r\n",
    "predicted = clf_loaded.predict(X_new_tfidf)"
   ],
   "outputs": [],
   "metadata": {}
  },
  {
   "cell_type": "markdown",
   "source": [
    "### Applying components through pipelines"
   ],
   "metadata": {}
  },
  {
   "cell_type": "code",
   "execution_count": 17,
   "source": [
    "from sklearn.pipeline import Pipeline\r\n",
    "from sklearn.feature_extraction.text import CountVectorizer\r\n",
    "from sklearn.feature_extraction.text import TfidfTransformer\r\n",
    "from sklearn.naive_bayes import MultinomialNB"
   ],
   "outputs": [],
   "metadata": {}
  },
  {
   "cell_type": "code",
   "execution_count": 41,
   "source": [
    "text_clf = Pipeline([\r\n",
    "    ('vect', CountVectorizer()),\r\n",
    "    ('tfidf', TfidfTransformer()),\r\n",
    "    ('clf', MultinomialNB()),\r\n",
    "])"
   ],
   "outputs": [],
   "metadata": {}
  },
  {
   "cell_type": "code",
   "execution_count": 42,
   "source": [
    "text_clf.fit(X_train, y_train.astype(int))"
   ],
   "outputs": [
    {
     "output_type": "execute_result",
     "data": {
      "text/plain": [
       "Pipeline(steps=[('vect', CountVectorizer()), ('tfidf', TfidfTransformer()),\n",
       "                ('clf', MultinomialNB())])"
      ]
     },
     "metadata": {},
     "execution_count": 42
    }
   ],
   "metadata": {}
  },
  {
   "cell_type": "code",
   "execution_count": 43,
   "source": [
    "import joblib"
   ],
   "outputs": [],
   "metadata": {}
  },
  {
   "cell_type": "code",
   "execution_count": 44,
   "source": [
    "joblib.dump(text_clf, 'twss_model.sav')"
   ],
   "outputs": [
    {
     "output_type": "execute_result",
     "data": {
      "text/plain": [
       "['twss_model.sav']"
      ]
     },
     "metadata": {},
     "execution_count": 44
    }
   ],
   "metadata": {}
  },
  {
   "cell_type": "code",
   "execution_count": 45,
   "source": [
    "twss_model_loaded = joblib.load('twss_model.sav')"
   ],
   "outputs": [],
   "metadata": {}
  },
  {
   "cell_type": "markdown",
   "source": [
    "### Prediction"
   ],
   "metadata": {}
  },
  {
   "cell_type": "code",
   "execution_count": 46,
   "source": [
    "twss_model_loaded.predict([\n",
    "    'Hello there'\n",
    "])[0]"
   ],
   "outputs": [
    {
     "output_type": "execute_result",
     "data": {
      "text/plain": [
       "0"
      ]
     },
     "metadata": {},
     "execution_count": 46
    }
   ],
   "metadata": {}
  },
  {
   "cell_type": "code",
   "execution_count": 48,
   "source": [
    "y_predicted=text_clf.predict(X_test)"
   ],
   "outputs": [],
   "metadata": {}
  },
  {
   "cell_type": "code",
   "execution_count": 49,
   "source": [
    "for i, result in enumerate(y_predicted):\n",
    "    if result==1:\n",
    "        print(X_test.iloc[i], y_test.iloc[i])"
   ],
   "outputs": [
    {
     "output_type": "stream",
     "name": "stdout",
     "text": [
      "hard you just have to put it in the right place 1\n",
      "why oh why did i suck thise tits 0\n",
      "its so thick i cant get my hands around it 1\n",
      "ughh it hurts when i swallow 1\n",
      "oh no its leaking white stuff 1\n",
      "i rarely go in there 0\n",
      "here put it in my hands and ill lick it from the bottom for you 1\n",
      "well i would need to wet it down before i slide down it 1\n",
      "oh yeah im fine i just had something stuck in my throat 1\n",
      "oh oh my god im blowing all these guys 1\n",
      "wow you got me all wet and sticky 1\n",
      "i cant wait to shove that foot-long in my mouth 1\n",
      "it went right in my mouth ew ew ew 1\n",
      "its a good three inches deep you should be able to fit a nice big sized rod in there 1\n",
      "i cant its too tight 1\n",
      "come on put your mouth on it suck it suck it kathy 1\n",
      "can we finish this orally my hand is starting to hurt 1\n",
      "oh it feels so good you just insert here and squeeze 1\n",
      "i think i can squeeze you in 1\n",
      "i cant stretch it over the thingy 1\n",
      "wow i didnt know what to expect and then it just came on my face 1\n",
      "ive never done one this big before 1\n",
      "youre sticking it in the wrong hole 1\n",
      "do you know how much it sucks to wake up to a vibrator every day and she goes well thats got to be better than the real thing 1\n",
      "adam stop spraying my face youre making me all wet 1\n",
      "is it hard to blow 1\n",
      "you have to lick it and then blow it 1\n",
      "omg im so wet twss i then replied i know lets go in deeper 1\n",
      "but hes doing it so hard and fast 1\n",
      "i know ive never had to swallow one this big 1\n",
      "wow you suck a lot you suck more than i do 1\n",
      "come get me 0\n",
      "its growing bigger and bigger and it wont stop 1\n",
      "man i hate the feeling of wet wood in my mouth 1\n",
      "can you just get it in already 1\n",
      "just put your hand down there and grab it 1\n",
      "drive those balls deep 1\n",
      "what the hell is wrong with you i couldnt get all that meat in my mouth even if i push it in all the way down my throat 1\n",
      "dude just stick it in this one it accepts cash 1\n",
      "no i want to see balls 1\n",
      "its so hard i cant do it anymore 1\n",
      "im sucking but nothing is coming in my mouth 1\n",
      "omg it just popped out in my face 1\n",
      "wow baby you sure were a trooper taking all those balls to the face 1\n",
      "i cant get it back in the hole 1\n",
      "you just gotta stick it in there and move it around until the hole gets bigger and that makes it easier to put it in next time 1\n",
      "you can just come you dont have to eat 1\n",
      "dont you dare blow on me 1\n",
      "oh my god it just squirted all over my hand 1\n",
      "are you ok because she was struggling she said yeah but its too big i cant fit it in my mouth 1\n",
      "honey i dont think this is going to fit 1\n",
      "hey you forgot your wet suit in my room you can come grab it whenever 0\n",
      "omg its soo hot its all over my mouth and down my throat 1\n",
      "ill be wet before i get it up 1\n",
      "oh please dont pull out before i get there 1\n",
      "hey get out of my bush 1\n",
      "it keeps going in and popping out again 1\n",
      "just keep pushing itll come 1\n",
      "have a look in the crack and see if you can see anything white 1\n",
      "we havent done 69 in a long time so you might not remember how to do it 1\n",
      "man this stick is stiff and i say dont press too hard or youll break it 1\n",
      "how come mine isnt big enough and the other girl said i dont know maybe the holes too small 1\n",
      "no its ok you dont need to pull it out 1\n",
      "its not even wet yet and u wanna go faster 1\n",
      "right ill go down on this one 1\n",
      "wait let me put that between my legs so you don't have to hold it like that 1\n",
      "wow this ones a mouthful 1\n",
      "how many bratwuest were you able to fit in your mouth at one time its me hans 0\n",
      "the main goal i have here is to be able to take it out and pop it straight in my mouth without any pain 1\n",
      "the little ones make it last longer 1\n",
      "you have to wrap your hands around it and rub it up and down vigorously 1\n",
      "hey can i use your ipad 1\n",
      "just angle your body right and that sucker in 1\n",
      "you didnt put it in far enough 1\n",
      "i think i cant swallow it anymore 1\n",
      "yeah going in is a lot tougher than coming back out 1\n",
      "there should be a hole right around here where you can stick the staff in hopefully it fits 1\n",
      "i feel so big it almost hurts 1\n",
      "stop forcing me in already when im ready ill come 1\n",
      "you need to stay in longer your pulling out too soon 1\n",
      "wow i didnt know he could get that long 1\n",
      "i cant spread my legs far enough to get on it 1\n",
      "it only gets hard when it hits me in the face 1\n",
      "why its just like a big ipod touch 1\n",
      "it was so big it wouldnt fit in my mouth 1\n",
      "then i caught a massive one and rode it till all that white stuff was gone 1\n",
      "cmon you said youd do it i then said no im too tired youve never done it before have you she asked yes i have i answered then lets do it 1\n",
      "wow thats a deep dark crack down there 1\n",
      "god how many times do i have to blow this thing to make it turn on 1\n",
      "theres too much meat in my taco 1\n",
      "its not huge but its big enough 1\n",
      "ugh love the taste but hate the texture 1\n",
      "youre gonna have to play with getting your hole wide enough 1\n",
      "hmm its long black and thick 1\n",
      "mr jones how will you be giving the quiz to us passing it out written on the board and he replies oh im just going to give it to you orally 1\n",
      "i could blow better than him twss i replied at least he has a nicely trimmed bush 1\n",
      "blows to hard it gets all over get face 1\n",
      "i cant get it out of my throat its like stuck in there 1\n",
      "ahh it exploded in my mouth but it tastes pretty good 1\n",
      "these things are great you just slide it up and down on the bar but you have to make sure its sticky not too sticky because then it doesnt budge but if it is too loose it just slides up and down with no control 1\n",
      "i keep sucking but nothing will come out 1\n",
      "its huge its like this long and that big around 1\n",
      "where do i stick this thing and then without thinking i say stick it in that hole but hurry up im getting wet 1\n",
      "its really dry do you want me to pull it out now 1\n",
      "it didnt fit in mine either but i just stuck it in 1\n",
      "no honey not that hole its too small i dont think it will fit try again 1\n",
      "i like the long skinny ones those are very in 1\n",
      "its too small i wont be able to play with this 1\n",
      "its pretty big so you better get it in to me 1\n",
      "oh my god its way to big it wont fit 1\n",
      "careful that ones really hard and slippery 1\n",
      "stick it in your mouth and blow quickly 1\n",
      "its easier to use your hand its faster 1\n",
      "hey no judgement here 0\n",
      "oops sorry i swallowed 1\n",
      "what i like stuffing it all in my mouth at once 1\n",
      "so how do you know when to pull out 1\n",
      "my hands are busy just put it in my mouth 1\n",
      "you have to pull it out shake it a little give it a minute then stick it in really fast 1\n",
      "ugh why is it so slippery the gym teacher: i think it might have been the group that was just using it eew thats disgusting can i have a different one sure go grab that black one over there whats the matter just suck it up its going to be over in a couple seconds anyways you guys might not care if its dirty but us girls sure do 1\n",
      "geez it just keeps getting harder and harder the more you play with it 1\n",
      "how am i supposed to do this its so short 1\n",
      "it hurts when i put it in and out 1\n",
      "dillan you squirted it on me im wet 1\n",
      "this is so hard it wont fit in the teacher said try opening the hole a little bit still he says its still too small finally the teacher walks closer and says okay let me hold your wood and you drill it in 1\n",
      "i can feel it with my hand but i cant put it in the right spot 1\n",
      "there used to be a bush there but its not there anymore 1\n",
      "i think i need a big black one 1\n",
      "i came so hard that my back seriously popped like 5 times 0\n",
      "dont put it in yet 1\n",
      "it amzig 0\n",
      "it was mostly oral 1\n",
      "god its just so big and it bulges out there 1\n",
      "no way that is too big 1\n",
      "just put it in make sure it wont come out and i will take care of the rest 1\n",
      "can that thing even spurt cream out anymore 1\n",
      "when you lick it you get white stuff on your tongue 1\n",
      "ow please dont put it in that hole it really hurts 1\n",
      "how big is this thing gonna get 1\n",
      "damn it adam i could actually get some if you didnt keep pulling out so fast 1\n",
      "and you said quitting would be hard 0\n",
      "he cant get it in his hand is shaking too much 1\n",
      "my professor just used the phrase balls deep in your mind 0\n",
      "lets do it orally it will be faster 1\n",
      "i have to change positions its all sticky over here 1\n",
      "ahh it hit me right in the face 1\n",
      "take off the wrapper and pop that sucker in 1\n",
      "you may be able to get it to fit but it is a really tight space 1\n",
      "can you stop making my hole bigger 1\n",
      "stop blowing on it to which i replied im not blowing anymore im fingering 1\n",
      "stop shoving it into me theres already one in there 1\n",
      "yeah i thought it was gonna be a little long but it was actually kinda short it fit perfectly 1\n",
      "thats terrible 0\n",
      "but its so much more fun when its big 1\n",
      "oh really so you're really good at itâ€¦the ball just goes in one hole and out anotherâ€¦takes about an hour 1\n",
      "im the same way i just suck on it until it melts 1\n",
      "you can suck them and suck them and suck them and they will never get any smaller 1\n",
      "dont poke it with a stick just run off and play with your balls 1\n",
      "you want to go in there dont you big boy 1\n",
      "oh man i have never been so wet and sore in my whole life 1\n",
      "i like the bigger ones cuz they last longer 1\n",
      "is it suppose to hurt like that twss he said it will only hurt the first couple of times 1\n",
      "it tastes better than it smells 1\n",
      "i dont know if i can fit another one in ive already had so much junk inside me this week 1\n",
      "your rod and shaft comfort me in great pleasure 1\n",
      "well i dont 0\n",
      "i guess i just liked sticks better than balls 1\n",
      "i cant get it in the hole its too hard he finally succeeds in getting it in and shouts i got in in the hole 1\n",
      "dont spread your legs because im coming 1\n",
      "i will wait until its hard 1\n",
      "ooh i love the long juicy ones 1\n",
      "i cant go out like that 0\n",
      "i just put the whole thing in my mouth and suck on it 1\n",
      "you gotta wiggle it around a little bit its kinda funky 1\n",
      "you have to pull it long and hard until it comes 1\n",
      "stop the more you rub it the more it comes 1\n",
      "its too soft to blow my other partner said once it gets harder its easier to blow once my friend succeeded in blowing the bubble she said aloud damn im a good blower 1\n",
      "the hole is too small it wont fit 1\n",
      "i should blow this as hard as i can 1\n",
      "you have to wait for it to get hard and firm and then you can put it in 1\n",
      "stop youre stretching my hole 1\n",
      "its going to be a long semester 0\n",
      "this is going to be a big one here it comes 1\n",
      "i cant feel my fingers or toes 0\n",
      "why is he riding my butt so hard 1\n",
      "ugh i keep sucking and sucking and sucking as hard as i can but nothing is coming out 1\n",
      "dont poke me with that its got white stuff on it 1\n",
      "this sucks im all wet and i dont know where i am 1\n",
      "you need to quit sticking your fingers in things 1\n",
      "i know it was soooo fast 1\n",
      "why the heck wont it go in oh its not stiff enough 1\n",
      "this is really hard to swallow 1\n",
      "oh come on just stick it in already 1\n",
      "dang i felt that one go in 1\n",
      "i got a super short pixie cut 0\n",
      "i cant its so hard and my mouth is starting to hurt 1\n",
      "when i opened it it was hard then i bit into it and it tasted bad my sister then says yeah i dont like them hard 1\n",
      "its been in your mouth for half an hour either spit it out or swallow it 1\n",
      "put it back in and this time wait until you finish to pull it out 1\n",
      "long strokes are more efficient you can finish in half the time short strokes tire you out faster 1\n",
      "wow thats the most impressive thing ive ever seen 1\n",
      "if i did that harder it would have gone everywhere 1\n",
      "mr meyer its just too hard and i cant bear it any longer can you just remove it to which she gets the response im sorry youll just have to bear with it i know its hard but its just as hard for everybody else 1\n",
      "i keep sucking but its not coming 1\n",
      "dont pull out do not pull out 1\n",
      "do you have a onepiece i can borrow 0\n",
      "does it really matter if its bent youre just going to take it out in a minute anyway 1\n",
      "im not good at this its too hard to blow without realizing he said 1\n",
      "damn that shit is going back and forth so fast i cant even see it 1\n",
      "we only put hard things in our mouth 1\n",
      "ew i just did all of that work and now i have white stuff all over my hands 1\n",
      "this is great its one quick gulp then youre ready for another 1\n",
      "you know it actually feels better the farther in you go once youre all the way in it feels perfect 1\n",
      "awww man i wish it was longer 1\n",
      "oh my knees hurt can you remind me not to kneel next time 1\n",
      "okay liam stick it in there 1\n",
      "my hands hurt can we take a break 1\n",
      "squeeze it really hard until it comes 1\n",
      "stick the narrower part in first it goes in easier that way 1\n",
      "oh yeah its the blackest one ive ever seen and it lasts a really long time 1\n",
      "i dont think its going to fit maybe we should get it wet then it will slide in really easy 1\n",
      "you can try and stick it in there but its going to get really tight 1\n",
      "you can lick it all you want but dont bite it 1\n",
      "no because it will take me longer than you to finish 1\n",
      "thats too much meat to put inside your body at once but i enjoy it 1\n",
      "grab me around the body here now lean back and kinda thrust a few times just like that a little more oh god that feels so much better you can put me down now 1\n",
      "yeah the bigger it is the harder it is 1\n",
      "the balls are just hanging there noticing that they were in a little hole in the fence i added are they stuck in the hole 1\n",
      "oops is that ok and my mom said thats fine its better when you go deep 1\n",
      "wow you are done already 1\n",
      "too late its already in my mouth and it tastes fine to me 1\n",
      "ugh mine wont fit twss the teacher looks at her and the person says no matter what i do im never going to get this to fit in here 1\n",
      "its so small but its so fun and nice to play with 1\n",
      "just stick that wherever it fits theres gotta be a big enough hole somewhere 1\n",
      "do you really want it going into your mouth when you are sleeping 1\n",
      "come build stuff with me 0\n",
      "you guys are never going to get a good sound that way it doesnt matter if your fingerings are perfect or if your tounging is great if you dont control your air and blow in a steady unbreakable stream you will never be successful its all in how you blow 1\n",
      "its big its slow and its gonna be long 1\n",
      "oh god it squirted all over my face 1\n",
      "whoa looks like something big went down here 1\n",
      "wow its not as hard as its supposed to be 1\n",
      "it came all over me and im all wet 1\n",
      "because i always need something in my mouth 1\n",
      "shove it in deeper we dont want it slipping out 1\n",
      "the dentist said i should just massage it nice and easy to make it feel harder 1\n",
      "i have a lamp thats supposed to have a genie in it i keep rubbing it but nothing ever comes out 1\n",
      "yeah he doesnt get it 0\n",
      "dont expect me to keep sucking on it before i swallow 1\n",
      "i spit that out usually i swallow that sh*it 1\n",
      "xxxxxxx to yyyyyy: omg awesomee how long was it did you have funnnn 1\n",
      "oh my gosh i love dicks 1\n",
      "guys are you sure that you wanna go like that im free i have nothing better to do and if you want i can give each of you a ride if you guys want especially you michael youre my favourite 1\n",
      "oh dont worry when they see you coming they pull it out 1\n",
      "yeah but i hate when you blow really hard and it explodes all over your face 1\n",
      "holy fuck why is this so hard 1\n",
      "youre sticking out 1\n",
      "it was hard but kinda fun 1\n",
      "you need to be careful with your fingering or else you wont make it all the way up 1\n",
      "once you suck all the juice out its pretty much good for nothing 1\n",
      "here ill just put it in quick and fast the other proceeded to say no its too big it will rip 1\n",
      "once i've been drinking a lot my top comes off pretty easily 1\n",
      "are you stiff yet 1\n",
      "would you like the black one or the white one she answered it doesnt matter ill suck on both 1\n",
      "thats never gunna work and i replied it will do ive fit bigger ones in 1\n",
      "no thanks the little ones dont last long i prefer the bigger thicker ones 1\n",
      "i guess i was so excited that i just couldnt wait to get it in my mouth remind me never to put something so big and hard in my mouth again it really tore it up 1\n",
      "be careful i dont want it going off too soon again 1\n",
      "that was easy i didnt even have to bang it 1\n",
      "and then it started coming out of the bottom hole so i had to lick it up before it made a mess 1\n",
      "im sorry if its a little dusty down there 1\n",
      "wow thats a good oneyou should pull it out at parties 1\n",
      "how do you make it hard to which my friend replied you have to go up and down 1\n",
      "well were not going to just shove something in jerk it around and then pull it out again 1\n",
      "yeah so i had to sit there and blow it really good so it would be dry 1\n",
      "i love the taste but its just too big to fit in my mouth 1\n",
      "shew i wish a ride could get me wet for once 1\n",
      "i just squirted everywhere 1\n",
      "im having a hard time getting it in it just wont go in its too big 1\n",
      "you need to pull it out lick it and stick it back in 1\n",
      "i didnt get my mouth over it before it shot out but it all shot in my mouth anyway 1\n",
      "ugh a big glob just landed on my cheek 1\n",
      "can you go a little deeper 1\n",
      "well if it will get you to come sure its my first time 1\n",
      "man this thing looks small but its got alot of surface area 1\n",
      "yeah whenever you stuff it too much it rips 1\n",
      "this feels weird in my mouth 1\n",
      "im all wet and sticky 1\n",
      "yeah she gets off really easily 1\n",
      "wow this is big i dont know if i can fit this in my mouth 1\n",
      "im pulling out now to which i replied just hold on im coming 1\n",
      "its not a big load 1\n",
      "careful its real slippery in there 1\n",
      "how do you eat pumpkin seeds do you bake them with seasoning first and my other friend said no i just suck on em and swallow 1\n",
      "it is so hard and impossible to make it very long my grandma said ever so supportingly dont think of it as hard think of it as a fun experience 1\n",
      "when its thicker its usually shorter 1\n",
      "i cant get it to go in i dont know what to do 1\n",
      "that hole is so hairy 1\n",
      "i cant it wont go in any further and if i push it anymore itll get stuck 1\n",
      "i took so long trying to shove it in the damn hole i was like thats what she said then she showed me the differences of the cords and said see look at how much smaller it is 1\n",
      "great now im all wet we have to get it out quick 1\n",
      "youre going to have to take it out and turn it around then then put it back in because its too big and wet 1\n",
      "stop it youre making me all wet 1\n",
      "ok guys this thing is big and its super hard so what were going to do is hover right over it tackle it and then lower ourselves into it until it sprays got it 1\n",
      "its sooo hard i cant fit it in its just too small our bio teacher seeing that she was in distress proceeded to say wait im coming 1\n",
      "ill scream if you dont give it to me 1\n",
      "the hole is not big enough 1\n",
      "oh i like this one better its bigger 1\n",
      "im sorry i cant swallow this one 1\n",
      "wow its so big i cant even open my mouth wide enough to fit the whole thing in 1\n",
      "oh that was a great entry boys 1\n",
      "now it shouldnt hurt it just might be a little tight going in there but once its in there and going back and forth there shouldnt be any pain the only bad thing about it is the annoying grinding noise it makes 1\n",
      "this is too short its just silly 1\n",
      "liked to suck on them until they get soft 1\n",
      "it wont go in then i asked are you sure its in the right way then she said hold on let me use both hands 1\n",
      "dont pull it out yet youre not finished 1\n",
      "have you tried taking it out and putting it back in yeah i put it in all the wayohh wait its coming now 1\n",
      "this ones ugly but doable 1\n",
      "this is a long and hard one so ride it the hardest and fastest you can 1\n",
      "if you dont stop sticking that thing in me ill break it off 1\n",
      "it goes down easy but is hard to get it back up 1\n",
      "you look like youre doing well and he replied it only looks big because its all red 1\n",
      "just stick it in already 1\n",
      "just pull it out while youre sucking on it 1\n",
      "its funny im taller than rob zombie to which i replied i cant believe how small he is i thought hed be bigger 1\n",
      "just stick it innot there not there 1\n",
      "wow thats really stretching it 1\n",
      "why do you have to put this one here i think they look so much better without the rubber 1\n",
      "push it in slowly 1\n",
      "ill have a 12 inch italian 1\n",
      "oh come on if its really tiny well just ride it twice 1\n",
      "it goes to sleep if i dont touch it for too long 1\n",
      "wait how many fingers do i use for this (twss) my teacher replied well i normally use three but whatever you want 1\n",
      "could fit a little more in 1\n",
      "they look thick to begin with but when you put them in your mouth it is really quite surprising our thick they really are 1\n"
     ]
    }
   ],
   "metadata": {
    "tags": [
     "outputPrepend"
    ]
   }
  },
  {
   "cell_type": "code",
   "execution_count": 50,
   "source": [
    "np.mean(y_predicted == y_test)"
   ],
   "outputs": [
    {
     "output_type": "execute_result",
     "data": {
      "text/plain": [
       "0.9091677228559358"
      ]
     },
     "metadata": {},
     "execution_count": 50
    }
   ],
   "metadata": {}
  }
 ],
 "metadata": {
  "kernelspec": {
   "name": "python3",
   "display_name": "Python 3.9.1 64-bit ('twss': conda)",
   "metadata": {
    "interpreter": {
     "hash": "5fde6e57d03a9d4f5ecd14c5d7d0d97e479d3595f023efeac15c0a24a5bdb7bc"
    }
   }
  },
  "language_info": {
   "codemirror_mode": {
    "name": "ipython",
    "version": 3
   },
   "file_extension": ".py",
   "mimetype": "text/x-python",
   "name": "python",
   "nbconvert_exporter": "python",
   "pygments_lexer": "ipython3",
   "version": "3.9.1-final"
  }
 },
 "nbformat": 4,
 "nbformat_minor": 4
}